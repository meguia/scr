{
 "cells": [
  {
   "cell_type": "code",
   "execution_count": 310,
   "metadata": {},
   "outputs": [],
   "source": [
    "%matplotlib inline"
   ]
  },
  {
   "cell_type": "code",
   "execution_count": 311,
   "metadata": {},
   "outputs": [],
   "source": [
    "from scr_control import load_config, save_config\n",
    "%run scr_control"
   ]
  },
  {
   "cell_type": "markdown",
   "metadata": {},
   "source": [
    "## Ejemplo de salvar,  cargar y enviar config"
   ]
  },
  {
   "cell_type": "code",
   "execution_count": 301,
   "metadata": {},
   "outputs": [],
   "source": [
    "c = np.ones((5,20))*128\n",
    "save_config(c, 'configs/trg_0000.json')"
   ]
  },
  {
   "cell_type": "code",
   "execution_count": 303,
   "metadata": {},
   "outputs": [],
   "source": [
    "c = load_config('configs/trg_0000.json')"
   ]
  },
  {
   "cell_type": "code",
   "execution_count": 80,
   "metadata": {},
   "outputs": [],
   "source": [
    "c['values'][0,19]=214"
   ]
  },
  {
   "cell_type": "code",
   "execution_count": 305,
   "metadata": {},
   "outputs": [
    {
     "name": "stdout",
     "output_type": "stream",
     "text": [
      "Sending 192.168.0.11 [0, 128, 128, 128, 128, 128, 128, 128, 128, 128, 128, 128, 128, 128, 128, 128, 128, 128, 128, 128, 128]\n",
      "Sending 192.168.0.12 [0, 128, 128, 128, 128, 128, 128, 128, 128, 128, 128, 128, 128, 128, 128, 128, 128, 128, 128, 128, 128]\n",
      "Sending 192.168.0.13 [0, 128, 128, 128, 128, 128, 128, 128, 128, 128, 128, 128, 128, 128, 128, 128, 128, 128, 128, 128, 128]\n",
      "Sending 192.168.0.14 [0, 128, 128, 128, 128, 128, 128, 128, 128, 128, 128, 128, 128, 128, 128, 128, 128, 128, 128, 128, 128]\n",
      "Sending 192.168.0.15 [0, 128, 128, 128, 128, 128, 128, 128, 128, 128, 128, 128, 128, 128, 128, 128, 128, 128, 128, 128, 128]\n"
     ]
    }
   ],
   "source": [
    "send_config(c)"
   ]
  },
  {
   "cell_type": "code",
   "execution_count": 123,
   "metadata": {},
   "outputs": [],
   "source": [
    "# send_random_config([0])"
   ]
  },
  {
   "cell_type": "code",
   "execution_count": 122,
   "metadata": {},
   "outputs": [],
   "source": [
    "# send_random_config([0], type_='rgb')"
   ]
  },
  {
   "cell_type": "markdown",
   "metadata": {},
   "source": [
    "## Ejemplo de config que tiene una lista de configuraciones"
   ]
  },
  {
   "cell_type": "code",
   "execution_count": 119,
   "metadata": {},
   "outputs": [],
   "source": [
    "c = []\n",
    "for x in np.arange(42,215,43):\n",
    "    c.append( np.ones((5,20))*x )\n",
    "\n",
    "save_config(c, '_data/trg_0001.json', sequence=True)"
   ]
  },
  {
   "cell_type": "code",
   "execution_count": 121,
   "metadata": {},
   "outputs": [],
   "source": [
    "c = load_config('_data/trg_0001.json')"
   ]
  },
  {
   "cell_type": "code",
   "execution_count": 91,
   "metadata": {},
   "outputs": [
    {
     "name": "stdout",
     "output_type": "stream",
     "text": [
      "Sending 192.168.0.11[0, 1, 1, 1, 1, 1, 1, 1, 1, 1, 1, 1, 1, 1, 1, 1, 1, 1, 1, 1, 1]\n",
      "Sending 192.168.0.12[0, 42, 42, 42, 42, 42, 42, 42, 42, 42, 42, 42, 42, 42, 42, 42, 42, 42, 42, 42, 42]\n",
      "Sending 192.168.0.13[0, 128, 128, 128, 128, 128, 128, 128, 128, 128, 128, 128, 128, 128, 128, 128, 128, 128, 128, 128, 128]\n",
      "Sending 192.168.0.14[0, 214, 214, 214, 214, 214, 214, 214, 214, 214, 214, 214, 214, 214, 214, 214, 214, 214, 214, 214, 214]\n",
      "Sending 192.168.0.15[0, 255, 255, 255, 255, 255, 255, 255, 255, 255, 255, 255, 255, 255, 255, 255, 255, 255, 255, 255, 255]\n"
     ]
    }
   ],
   "source": [
    "for i, c_ in enumerate(c):\n",
    "    send_config(c_,0)"
   ]
  },
  {
   "cell_type": "markdown",
   "metadata": {},
   "source": [
    "## Ejemplo con un config que tiene una lista de configuraciones con el modulo incluido"
   ]
  },
  {
   "cell_type": "code",
   "execution_count": 114,
   "metadata": {},
   "outputs": [],
   "source": [
    "data = []\n",
    "for i, x in enumerate(np.arange(42,215,43)):\n",
    "    data.append({'values': (np.ones((5,20))*x).tolist(), 'type': 'trg', 'module': i} )\n",
    "dump_json(data, '_data/trg_0002.json')"
   ]
  },
  {
   "cell_type": "code",
   "execution_count": 277,
   "metadata": {},
   "outputs": [
    {
     "data": {
      "text/plain": [
       "[{'module': 0,\n",
       "  'type': 'trg',\n",
       "  'values': array([[42., 42., 42., 42., 42., 42., 42., 42., 42., 42., 42., 42., 42.,\n",
       "          42., 42., 42., 42., 42., 42., 42.],\n",
       "         [42., 42., 42., 42., 42., 42., 42., 42., 42., 42., 42., 42., 42.,\n",
       "          42., 42., 42., 42., 42., 42., 42.],\n",
       "         [42., 42., 42., 42., 42., 42., 42., 42., 42., 42., 42., 42., 42.,\n",
       "          42., 42., 42., 42., 42., 42., 42.],\n",
       "         [42., 42., 42., 42., 42., 42., 42., 42., 42., 42., 42., 42., 42.,\n",
       "          42., 42., 42., 42., 42., 42., 42.],\n",
       "         [42., 42., 42., 42., 42., 42., 42., 42., 42., 42., 42., 42., 42.,\n",
       "          42., 42., 42., 42., 42., 42., 42.]])},\n",
       " {'module': 1,\n",
       "  'type': 'trg',\n",
       "  'values': array([[85., 85., 85., 85., 85., 85., 85., 85., 85., 85., 85., 85., 85.,\n",
       "          85., 85., 85., 85., 85., 85., 85.],\n",
       "         [85., 85., 85., 85., 85., 85., 85., 85., 85., 85., 85., 85., 85.,\n",
       "          85., 85., 85., 85., 85., 85., 85.],\n",
       "         [85., 85., 85., 85., 85., 85., 85., 85., 85., 85., 85., 85., 85.,\n",
       "          85., 85., 85., 85., 85., 85., 85.],\n",
       "         [85., 85., 85., 85., 85., 85., 85., 85., 85., 85., 85., 85., 85.,\n",
       "          85., 85., 85., 85., 85., 85., 85.],\n",
       "         [85., 85., 85., 85., 85., 85., 85., 85., 85., 85., 85., 85., 85.,\n",
       "          85., 85., 85., 85., 85., 85., 85.]])},\n",
       " {'module': 2,\n",
       "  'type': 'trg',\n",
       "  'values': array([[128., 128., 128., 128., 128., 128., 128., 128., 128., 128., 128.,\n",
       "          128., 128., 128., 128., 128., 128., 128., 128., 128.],\n",
       "         [128., 128., 128., 128., 128., 128., 128., 128., 128., 128., 128.,\n",
       "          128., 128., 128., 128., 128., 128., 128., 128., 128.],\n",
       "         [128., 128., 128., 128., 128., 128., 128., 128., 128., 128., 128.,\n",
       "          128., 128., 128., 128., 128., 128., 128., 128., 128.],\n",
       "         [128., 128., 128., 128., 128., 128., 128., 128., 128., 128., 128.,\n",
       "          128., 128., 128., 128., 128., 128., 128., 128., 128.],\n",
       "         [128., 128., 128., 128., 128., 128., 128., 128., 128., 128., 128.,\n",
       "          128., 128., 128., 128., 128., 128., 128., 128., 128.]])},\n",
       " {'module': 3,\n",
       "  'type': 'trg',\n",
       "  'values': array([[171., 171., 171., 171., 171., 171., 171., 171., 171., 171., 171.,\n",
       "          171., 171., 171., 171., 171., 171., 171., 171., 171.],\n",
       "         [171., 171., 171., 171., 171., 171., 171., 171., 171., 171., 171.,\n",
       "          171., 171., 171., 171., 171., 171., 171., 171., 171.],\n",
       "         [171., 171., 171., 171., 171., 171., 171., 171., 171., 171., 171.,\n",
       "          171., 171., 171., 171., 171., 171., 171., 171., 171.],\n",
       "         [171., 171., 171., 171., 171., 171., 171., 171., 171., 171., 171.,\n",
       "          171., 171., 171., 171., 171., 171., 171., 171., 171.],\n",
       "         [171., 171., 171., 171., 171., 171., 171., 171., 171., 171., 171.,\n",
       "          171., 171., 171., 171., 171., 171., 171., 171., 171.]])},\n",
       " {'module': 4,\n",
       "  'type': 'trg',\n",
       "  'values': array([[214., 214., 214., 214., 214., 214., 214., 214., 214., 214., 214.,\n",
       "          214., 214., 214., 214., 214., 214., 214., 214., 214.],\n",
       "         [214., 214., 214., 214., 214., 214., 214., 214., 214., 214., 214.,\n",
       "          214., 214., 214., 214., 214., 214., 214., 214., 214.],\n",
       "         [214., 214., 214., 214., 214., 214., 214., 214., 214., 214., 214.,\n",
       "          214., 214., 214., 214., 214., 214., 214., 214., 214.],\n",
       "         [214., 214., 214., 214., 214., 214., 214., 214., 214., 214., 214.,\n",
       "          214., 214., 214., 214., 214., 214., 214., 214., 214.],\n",
       "         [214., 214., 214., 214., 214., 214., 214., 214., 214., 214., 214.,\n",
       "          214., 214., 214., 214., 214., 214., 214., 214., 214.]])}]"
      ]
     },
     "execution_count": 277,
     "metadata": {},
     "output_type": "execute_result"
    }
   ],
   "source": [
    "c = load_config('_data/trg_0002.json')\n",
    "c"
   ]
  },
  {
   "cell_type": "code",
   "execution_count": 116,
   "metadata": {},
   "outputs": [
    {
     "name": "stdout",
     "output_type": "stream",
     "text": [
      "Sending 192.168.0.11[0, 42, 42, 42, 42, 42, 42, 42, 42, 42, 42, 42, 42, 42, 42, 42, 42, 42, 42, 42, 42]\n",
      "Sending 192.168.0.12[0, 85, 85, 85, 85, 85, 85, 85, 85, 85, 85, 85, 85, 85, 85, 85, 85, 85, 85, 85, 85]\n",
      "Sending 192.168.0.13[0, 128, 128, 128, 128, 128, 128, 128, 128, 128, 128, 128, 128, 128, 128, 128, 128, 128, 128, 128, 128]\n",
      "Sending 192.168.0.14[0, 171, 171, 171, 171, 171, 171, 171, 171, 171, 171, 171, 171, 171, 171, 171, 171, 171, 171, 171, 171]\n",
      "Sending 192.168.0.15[0, 214, 214, 214, 214, 214, 214, 214, 214, 214, 214, 214, 214, 214, 214, 214, 214, 214, 214, 214, 214]\n"
     ]
    }
   ],
   "source": [
    "send_config_sequence(c)"
   ]
  },
  {
   "cell_type": "code",
   "execution_count": 312,
   "metadata": {},
   "outputs": [
    {
     "data": {
      "image/png": "[encoded data removed]",
      "text/plain": [
       "<Figure size 2304x576 with 1 Axes>"
      ]
     },
     "metadata": {},
     "output_type": "display_data"
    }
   ],
   "source": [
    "trg_values = c['values'].flatten()\n",
    "plot_scr(trg_values)"
   ]
  },
  {
   "cell_type": "code",
   "execution_count": null,
   "metadata": {},
   "outputs": [],
   "source": []
  }
 ],
 "metadata": {
  "kernelspec": {
   "display_name": "Python 3",
   "language": "python",
   "name": "python3"
  },
  "language_info": {
   "codemirror_mode": {
    "name": "ipython",
    "version": 3
   },
   "file_extension": ".py",
   "mimetype": "text/x-python",
   "name": "python",
   "nbconvert_exporter": "python",
   "pygments_lexer": "ipython3",
   "version": "3.5.2"
  }
 },
 "nbformat": 4,
 "nbformat_minor": 2
}
