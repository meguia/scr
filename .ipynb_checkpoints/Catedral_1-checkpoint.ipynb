{
 "cells": [
  {
   "cell_type": "code",
   "execution_count": 58,
   "metadata": {},
   "outputs": [],
   "source": [
    "import numpy as np\n",
    "import control_readconfig as ctrl"
   ]
  },
  {
   "cell_type": "code",
   "execution_count": 60,
   "metadata": {
    "collapsed": true
   },
   "outputs": [],
   "source": [
    "#parametros\n",
    "#test\n",
    "nm = [3]\n",
    "# all\n",
    "#nm = 0"
   ]
  },
  {
   "cell_type": "code",
   "execution_count": 66,
   "metadata": {},
   "outputs": [
    {
     "name": "stdout",
     "output_type": "stream",
     "text": [
      "Sending 192.168.0.14[0, 20, 20, 20, 20, 20, 20, 20, 20, 20, 20, 20, 20, 20, 20, 20, 20, 20, 20, 20, 20]\n",
      "Sending 192.168.0.14[0, 20, 20, 20, 20, 20, 20, 20, 20, 20, 20, 20, 20, 20, 20, 20, 20, 20, 20, 20, 20]\n"
     ]
    }
   ],
   "source": [
    "# MOV 1\n",
    "#bajo la velocidad\n",
    "ctrl.send_conf(2,nmod=nm,tipo='vel')\n",
    "ctrl.send_conf(2,nmod=nm,tipo='acl')"
   ]
  },
  {
   "cell_type": "code",
   "execution_count": 62,
   "metadata": {},
   "outputs": [
    {
     "name": "stdout",
     "output_type": "stream",
     "text": [
      "Sending 192.168.0.14[0, 214, 214, 214, 214, 214, 214, 214, 214, 214, 214, 214, 214, 214, 214, 214, 214, 214, 214, 214, 214]\n"
     ]
    }
   ],
   "source": [
    "ctrl.send_conf(2,nmod=nm)"
   ]
  },
  {
   "cell_type": "code",
   "execution_count": 67,
   "metadata": {},
   "outputs": [
    {
     "name": "stdout",
     "output_type": "stream",
     "text": [
      "Sending 192.168.0.14[0, 171, 171, 171, 171, 171, 171, 171, 171, 171, 171, 171, 171, 171, 171, 171, 171, 171, 171, 171, 171]\n"
     ]
    }
   ],
   "source": [
    "ctrl.send_conf(4,nmod=nm)"
   ]
  },
  {
   "cell_type": "code",
   "execution_count": 65,
   "metadata": {},
   "outputs": [
    {
     "name": "stdout",
     "output_type": "stream",
     "text": [
      "Sending 192.168.0.14[0, 255, 255, 255, 255, 255, 255, 255, 255, 255, 255, 255, 255, 255, 255, 255, 255, 255, 255, 255, 255]\n"
     ]
    }
   ],
   "source": [
    "ctrl.send_conf(9,nmod=nm)"
   ]
  },
  {
   "cell_type": "code",
   "execution_count": 68,
   "metadata": {},
   "outputs": [
    {
     "name": "stdout",
     "output_type": "stream",
     "text": [
      "Sending 192.168.0.14[0, 255, 255, 255, 255, 255, 255, 255, 255, 255, 255, 255, 255, 255, 255, 255, 255, 255, 255, 255, 255]\n",
      "Sending 192.168.0.14[0, 255, 255, 255, 255, 255, 255, 255, 255, 255, 255, 255, 255, 255, 255, 255, 255, 255, 255, 255, 255]\n"
     ]
    }
   ],
   "source": [
    "ctrl.send_conf(1,nmod=nm,tipo='vel')\n",
    "ctrl.send_conf(1,nmod=nm,tipo='acl')"
   ]
  },
  {
   "cell_type": "code",
   "execution_count": 12,
   "metadata": {
    "collapsed": true
   },
   "outputs": [],
   "source": [
    "# MOV2\n",
    "#escalonado"
   ]
  },
  {
   "cell_type": "code",
   "execution_count": 13,
   "metadata": {
    "collapsed": true
   },
   "outputs": [],
   "source": [
    "# MOV 3\n",
    "# GLISSANDO"
   ]
  },
  {
   "cell_type": "code",
   "execution_count": 69,
   "metadata": {},
   "outputs": [
    {
     "name": "stdout",
     "output_type": "stream",
     "text": [
      "Sending 192.168.0.14[0, 214, 214, 214, 214, 214, 214, 214, 214, 214, 214, 214, 214, 214, 214, 214, 214, 214, 214, 214, 214]\n"
     ]
    }
   ],
   "source": [
    "# MOV 4\n",
    "############\n",
    "# LABERINTO\n",
    "# para atras todos\n",
    "ctrl.send_conf(2,nmod=nm)"
   ]
  },
  {
   "cell_type": "code",
   "execution_count": 73,
   "metadata": {},
   "outputs": [
    {
     "name": "stdout",
     "output_type": "stream",
     "text": [
      "Sending 192.168.0.14[0, 214, 0, 0, 0, 0, 214, 0, 0, 0, 0, 0, 0, 0, 0, 214, 0, 0, 0, 214, 0]\n",
      "Sending 192.168.0.14[0, 0, 214, 0, 0, 0, 0, 0, 0, 214, 0, 0, 0, 0, 214, 0, 0, 0, 214, 0, 0]\n",
      "Sending 192.168.0.14[0, 0, 0, 0, 214, 0, 0, 0, 0, 0, 214, 0, 0, 214, 0, 0, 214, 0, 0, 0, 0]\n",
      "Sending 192.168.0.14[0, 0, 0, 0, 0, 214, 0, 0, 214, 0, 0, 0, 214, 0, 0, 0, 0, 214, 0, 0, 0]\n",
      "Sending 192.168.0.14[0, 0, 0, 214, 0, 0, 0, 214, 0, 0, 0, 214, 0, 0, 0, 0, 0, 0, 0, 0, 214]\n"
     ]
    }
   ],
   "source": [
    "#posicion random de a pasos por columna elegida al azar\n",
    "ctrl.send_rand_mask(50,5,range(5),nmod=nm)"
   ]
  },
  {
   "cell_type": "code",
   "execution_count": null,
   "metadata": {
    "collapsed": true
   },
   "outputs": [],
   "source": [
    "#mueve de a 1 columna por fila al azar\n",
    "ctrl.send_rand_mask(51,0,nmask = 0)\n",
    "ctrl.send_rand_mask(1,0,nmask = 0, tipo='rgb')"
   ]
  }
 ],
 "metadata": {
  "kernelspec": {
   "display_name": "Python 3",
   "language": "python",
   "name": "python3"
  },
  "language_info": {
   "codemirror_mode": {
    "name": "ipython",
    "version": 3
   },
   "file_extension": ".py",
   "mimetype": "text/x-python",
   "name": "python",
   "nbconvert_exporter": "python",
   "pygments_lexer": "ipython3",
   "version": "3.6.3"
  }
 },
 "nbformat": 4,
 "nbformat_minor": 2
}
