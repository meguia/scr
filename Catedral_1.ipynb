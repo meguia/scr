{
 "cells": [
  {
   "cell_type": "code",
   "execution_count": 58,
   "metadata": {},
   "outputs": [],
   "source": [
    "import numpy as np\n",
    "import control_readconfig as ctrl"
   ]
  },
  {
   "cell_type": "code",
   "execution_count": 60,
   "metadata": {
    "collapsed": true
   },
   "outputs": [],
   "source": [
    "#parametros\n",
    "#test\n",
    "nm = [3]\n",
    "# all\n",
    "#nm = 0"
   ]
  },
  {
   "cell_type": "code",
   "execution_count": 66,
   "metadata": {},
   "outputs": [
    {
     "name": "stdout",
     "output_type": "stream",
     "text": [
      "Sending 192.168.0.14[0, 20, 20, 20, 20, 20, 20, 20, 20, 20, 20, 20, 20, 20, 20, 20, 20, 20, 20, 20, 20]\n",
      "Sending 192.168.0.14[0, 20, 20, 20, 20, 20, 20, 20, 20, 20, 20, 20, 20, 20, 20, 20, 20, 20, 20, 20, 20]\n"
     ]
    }
   ],
   "source": [
    "# MOV 1\n",
    "#bajo la velocidad\n",
    "ctrl.send_conf(2,nmod=nm,tipo='vel')\n",
    "ctrl.send_conf(2,nmod=nm,tipo='acl')"
   ]
  },
  {
   "cell_type": "code",
   "execution_count": 88,
   "metadata": {},
   "outputs": [
    {
     "name": "stdout",
     "output_type": "stream",
     "text": [
      "Sending 192.168.0.14[0, 214, 214, 214, 214, 214, 214, 214, 214, 214, 214, 214, 214, 214, 214, 214, 214, 214, 214, 214, 214]\n"
     ]
    }
   ],
   "source": [
    "ctrl.send_conf(2,nmod=nm)"
   ]
  },
  {
   "cell_type": "code",
   "execution_count": 67,
   "metadata": {},
   "outputs": [
    {
     "name": "stdout",
     "output_type": "stream",
     "text": [
      "Sending 192.168.0.14[0, 171, 171, 171, 171, 171, 171, 171, 171, 171, 171, 171, 171, 171, 171, 171, 171, 171, 171, 171, 171]\n"
     ]
    }
   ],
   "source": [
    "ctrl.send_conf(4,nmod=nm)"
   ]
  },
  {
   "cell_type": "code",
   "execution_count": 65,
   "metadata": {},
   "outputs": [
    {
     "name": "stdout",
     "output_type": "stream",
     "text": [
      "Sending 192.168.0.14[0, 255, 255, 255, 255, 255, 255, 255, 255, 255, 255, 255, 255, 255, 255, 255, 255, 255, 255, 255, 255]\n"
     ]
    }
   ],
   "source": [
    "ctrl.send_conf(9,nmod=nm)"
   ]
  },
  {
   "cell_type": "code",
   "execution_count": 68,
   "metadata": {},
   "outputs": [
    {
     "name": "stdout",
     "output_type": "stream",
     "text": [
      "Sending 192.168.0.14[0, 255, 255, 255, 255, 255, 255, 255, 255, 255, 255, 255, 255, 255, 255, 255, 255, 255, 255, 255, 255]\n",
      "Sending 192.168.0.14[0, 255, 255, 255, 255, 255, 255, 255, 255, 255, 255, 255, 255, 255, 255, 255, 255, 255, 255, 255, 255]\n"
     ]
    }
   ],
   "source": [
    "ctrl.send_conf(1,nmod=nm,tipo='vel')\n",
    "ctrl.send_conf(1,nmod=nm,tipo='acl')"
   ]
  },
  {
   "cell_type": "code",
   "execution_count": 12,
   "metadata": {
    "collapsed": true
   },
   "outputs": [],
   "source": [
    "# MOV2\n",
    "#escalonado"
   ]
  },
  {
   "cell_type": "code",
   "execution_count": 13,
   "metadata": {
    "collapsed": true
   },
   "outputs": [],
   "source": [
    "# MOV 3\n",
    "# GLISSANDO"
   ]
  },
  {
   "cell_type": "code",
   "execution_count": 69,
   "metadata": {},
   "outputs": [
    {
     "name": "stdout",
     "output_type": "stream",
     "text": [
      "Sending 192.168.0.14[0, 214, 214, 214, 214, 214, 214, 214, 214, 214, 214, 214, 214, 214, 214, 214, 214, 214, 214, 214, 214]\n"
     ]
    }
   ],
   "source": [
    "# MOV 4\n",
    "############\n",
    "# LABERINTO\n",
    "# para atras todos\n",
    "ctrl.send_conf(2,nmod=nm)"
   ]
  },
  {
   "cell_type": "code",
   "execution_count": 73,
   "metadata": {},
   "outputs": [
    {
     "name": "stdout",
     "output_type": "stream",
     "text": [
      "Sending 192.168.0.14[0, 214, 0, 0, 0, 0, 214, 0, 0, 0, 0, 0, 0, 0, 0, 214, 0, 0, 0, 214, 0]\n",
      "Sending 192.168.0.14[0, 0, 214, 0, 0, 0, 0, 0, 0, 214, 0, 0, 0, 0, 214, 0, 0, 0, 214, 0, 0]\n",
      "Sending 192.168.0.14[0, 0, 0, 0, 214, 0, 0, 0, 0, 0, 214, 0, 0, 214, 0, 0, 214, 0, 0, 0, 0]\n",
      "Sending 192.168.0.14[0, 0, 0, 0, 0, 214, 0, 0, 214, 0, 0, 0, 214, 0, 0, 0, 0, 214, 0, 0, 0]\n",
      "Sending 192.168.0.14[0, 0, 0, 214, 0, 0, 0, 214, 0, 0, 0, 214, 0, 0, 0, 0, 0, 0, 0, 0, 214]\n"
     ]
    }
   ],
   "source": [
    "#posicion random de a pasos por columna elegida al azar\n",
    "ctrl.send_rand_mask(50,5,range(5),nmod=nm)"
   ]
  },
  {
   "cell_type": "code",
   "execution_count": 77,
   "metadata": {},
   "outputs": [
    {
     "name": "stdout",
     "output_type": "stream",
     "text": [
      "Sending 192.168.0.14[0, 0, 171, 0, 0, 0, 0, 0, 0, 0, 171, 0, 0, 0, 171, 0, 0, 0, 171, 0, 0]\n",
      "Sending 192.168.0.14[0, 0, 0, 0, 171, 0, 171, 0, 0, 0, 0, 171, 0, 0, 0, 0, 0, 171, 0, 0, 0]\n",
      "Sending 192.168.0.14[0, 0, 0, 171, 0, 0, 0, 171, 0, 0, 0, 0, 0, 171, 0, 0, 0, 0, 0, 0, 171]\n",
      "Sending 192.168.0.14[0, 171, 0, 0, 0, 0, 0, 0, 171, 0, 0, 0, 171, 0, 0, 0, 171, 0, 0, 0, 0]\n",
      "Sending 192.168.0.14[0, 0, 0, 0, 0, 171, 0, 0, 0, 171, 0, 0, 0, 0, 0, 171, 0, 0, 0, 171, 0]\n"
     ]
    }
   ],
   "source": [
    "#mueve de a 1 columna por fila al azar\n",
    "ctrl.send_rand_mask(4,1,nmod=nm,nmask = range(5))\n",
    "#ctrl.send_rand_mask(1,0,nmod=nm,nmask = [0], tipo='rgb')"
   ]
  },
  {
   "cell_type": "code",
   "execution_count": null,
   "metadata": {
    "collapsed": true
   },
   "outputs": [],
   "source": [
    "# MOV 5\n",
    "#######\n",
    "# DUO DE SAXOS\n",
    "ctrl.send_conf_list([5,6],[1,4])\n",
    "#ctrl.send_conf_list([6,5],[1,4])"
   ]
  },
  {
   "cell_type": "code",
   "execution_count": 90,
   "metadata": {},
   "outputs": [
    {
     "name": "stdout",
     "output_type": "stream",
     "text": [
      "[[  0 255 255 255   0   0 255 255 255   0   0 255 255 255   0   0 255 255\n",
      "  255   0]\n",
      " [  0 255 255 255   0   0 255 255 255   0   0 255 255 255   0   0 255 255\n",
      "  255   0]\n",
      " [  0 255 255 255   0   0 255 255 255   0   0 255 255 255   0   0 255 255\n",
      "  255   0]\n",
      " [  0 255 255 255   0   0 255 255 255   0   0 255 255 255   0   0 255 255\n",
      "  255   0]\n",
      " [  0 255 255 255   0   0 255 255 255   0   0 255 255 255   0   0 255 255\n",
      "  255   0]]\n"
     ]
    }
   ],
   "source": [
    "ctrl.make_conf([0,255,255,255,0],13,nseq=2,clase='row')"
   ]
  },
  {
   "cell_type": "code",
   "execution_count": null,
   "metadata": {},
   "outputs": [],
   "source": [
    "#atencion porque queda en loop\n",
    "ctrl.send_conf_delay(12,[4,4],nmod=nm,loop=1)"
   ]
  },
  {
   "cell_type": "code",
   "execution_count": 91,
   "metadata": {},
   "outputs": [
    {
     "name": "stdout",
     "output_type": "stream",
     "text": [
      "Sending 192.168.0.14[0, 0, 171, 171, 171, 0, 0, 171, 171, 171, 0, 0, 171, 171, 171, 0, 0, 171, 171, 171, 0]\n",
      "Sending 192.168.0.14[0, 0, 255, 255, 255, 0, 0, 255, 255, 255, 0, 0, 255, 255, 255, 0, 0, 255, 255, 255, 0]\n",
      "Sending 192.168.0.14[0, 0, 171, 171, 171, 0, 0, 171, 171, 171, 0, 0, 171, 171, 171, 0, 0, 171, 171, 171, 0]\n",
      "Sending 192.168.0.14[0, 0, 255, 255, 255, 0, 0, 255, 255, 255, 0, 0, 255, 255, 255, 0, 0, 255, 255, 255, 0]\n",
      "Sending 192.168.0.14[0, 0, 171, 171, 171, 0, 0, 171, 171, 171, 0, 0, 171, 171, 171, 0, 0, 171, 171, 171, 0]\n",
      "Sending 192.168.0.14[0, 0, 255, 255, 255, 0, 0, 255, 255, 255, 0, 0, 255, 255, 255, 0, 0, 255, 255, 255, 0]\n",
      "Sending 192.168.0.14[0, 0, 171, 171, 171, 0, 0, 171, 171, 171, 0, 0, 171, 171, 171, 0, 0, 171, 171, 171, 0]\n",
      "Sending 192.168.0.14[0, 0, 255, 255, 255, 0, 0, 255, 255, 255, 0, 0, 255, 255, 255, 0, 0, 255, 255, 255, 0]\n",
      "Sending 192.168.0.14[0, 0, 171, 171, 171, 0, 0, 171, 171, 171, 0, 0, 171, 171, 171, 0, 0, 171, 171, 171, 0]\n",
      "Sending 192.168.0.14[0, 0, 255, 255, 255, 0, 0, 255, 255, 255, 0, 0, 255, 255, 255, 0, 0, 255, 255, 255, 0]\n",
      "Sending 192.168.0.14[0, 0, 171, 171, 171, 0, 0, 171, 171, 171, 0, 0, 171, 171, 171, 0, 0, 171, 171, 171, 0]\n",
      "Sending 192.168.0.14[0, 0, 255, 255, 255, 0, 0, 255, 255, 255, 0, 0, 255, 255, 255, 0, 0, 255, 255, 255, 0]\n",
      "Sending 192.168.0.14[0, 0, 171, 171, 171, 0, 0, 171, 171, 171, 0, 0, 171, 171, 171, 0, 0, 171, 171, 171, 0]\n",
      "Sending 192.168.0.14[0, 0, 255, 255, 255, 0, 0, 255, 255, 255, 0, 0, 255, 255, 255, 0, 0, 255, 255, 255, 0]\n",
      "Sending 192.168.0.14[0, 0, 171, 171, 171, 0, 0, 171, 171, 171, 0, 0, 171, 171, 171, 0, 0, 171, 171, 171, 0]\n",
      "Sending 192.168.0.14[0, 0, 255, 255, 255, 0, 0, 255, 255, 255, 0, 0, 255, 255, 255, 0, 0, 255, 255, 255, 0]\n",
      "Sending 192.168.0.14[0, 0, 171, 171, 171, 0, 0, 171, 171, 171, 0, 0, 171, 171, 171, 0, 0, 171, 171, 171, 0]\n",
      "Sending 192.168.0.14[0, 0, 255, 255, 255, 0, 0, 255, 255, 255, 0, 0, 255, 255, 255, 0, 0, 255, 255, 255, 0]\n",
      "Sending 192.168.0.14[0, 0, 171, 171, 171, 0, 0, 171, 171, 171, 0, 0, 171, 171, 171, 0, 0, 171, 171, 171, 0]\n",
      "Sending 192.168.0.14[0, 0, 255, 255, 255, 0, 0, 255, 255, 255, 0, 0, 255, 255, 255, 0, 0, 255, 255, 255, 0]\n",
      "Sending 192.168.0.14[0, 0, 171, 171, 171, 0, 0, 171, 171, 171, 0, 0, 171, 171, 171, 0, 0, 171, 171, 171, 0]\n",
      "Sending 192.168.0.14[0, 0, 255, 255, 255, 0, 0, 255, 255, 255, 0, 0, 255, 255, 255, 0, 0, 255, 255, 255, 0]\n",
      "Sending 192.168.0.14[0, 0, 171, 171, 171, 0, 0, 171, 171, 171, 0, 0, 171, 171, 171, 0, 0, 171, 171, 171, 0]\n",
      "Sending 192.168.0.14[0, 0, 255, 255, 255, 0, 0, 255, 255, 255, 0, 0, 255, 255, 255, 0, 0, 255, 255, 255, 0]\n",
      "Sending 192.168.0.14[0, 0, 171, 171, 171, 0, 0, 171, 171, 171, 0, 0, 171, 171, 171, 0, 0, 171, 171, 171, 0]\n",
      "Sending 192.168.0.14[0, 0, 255, 255, 255, 0, 0, 255, 255, 255, 0, 0, 255, 255, 255, 0, 0, 255, 255, 255, 0]\n",
      "Sending 192.168.0.14[0, 0, 171, 171, 171, 0, 0, 171, 171, 171, 0, 0, 171, 171, 171, 0, 0, 171, 171, 171, 0]\n",
      "Sending 192.168.0.14[0, 0, 255, 255, 255, 0, 0, 255, 255, 255, 0, 0, 255, 255, 255, 0, 0, 255, 255, 255, 0]\n",
      "Sending 192.168.0.14[0, 0, 171, 171, 171, 0, 0, 171, 171, 171, 0, 0, 171, 171, 171, 0, 0, 171, 171, 171, 0]\n"
     ]
    },
    {
     "ename": "KeyboardInterrupt",
     "evalue": "",
     "output_type": "error",
     "traceback": [
      "\u001b[0;31m---------------------------------------------------------------------------\u001b[0m",
      "\u001b[0;31mKeyboardInterrupt\u001b[0m                         Traceback (most recent call last)",
      "\u001b[0;32m<ipython-input-91-036073a70cdd>\u001b[0m in \u001b[0;36m<module>\u001b[0;34m()\u001b[0m\n\u001b[0;32m----> 1\u001b[0;31m \u001b[0mctrl\u001b[0m\u001b[0;34m.\u001b[0m\u001b[0msend_conf_delay\u001b[0m\u001b[0;34m(\u001b[0m\u001b[0;36m13\u001b[0m\u001b[0;34m,\u001b[0m\u001b[0;34m[\u001b[0m\u001b[0;36m8\u001b[0m\u001b[0;34m,\u001b[0m\u001b[0;36m8\u001b[0m\u001b[0;34m]\u001b[0m\u001b[0;34m,\u001b[0m\u001b[0mnmod\u001b[0m\u001b[0;34m=\u001b[0m\u001b[0mnm\u001b[0m\u001b[0;34m,\u001b[0m\u001b[0mloop\u001b[0m\u001b[0;34m=\u001b[0m\u001b[0;36m1\u001b[0m\u001b[0;34m)\u001b[0m\u001b[0;34m\u001b[0m\u001b[0m\n\u001b[0m",
      "\u001b[0;32m~/scr/control_readconfig.py\u001b[0m in \u001b[0;36msend_conf_delay\u001b[0;34m(nid, delays, nmod, tipo, loop)\u001b[0m\n\u001b[1;32m    121\u001b[0m         \u001b[0;32mfor\u001b[0m \u001b[0mn\u001b[0m\u001b[0;34m,\u001b[0m\u001b[0mndel\u001b[0m \u001b[0;32min\u001b[0m \u001b[0menumerate\u001b[0m\u001b[0;34m(\u001b[0m\u001b[0mdelays\u001b[0m\u001b[0;34m)\u001b[0m\u001b[0;34m:\u001b[0m\u001b[0;34m\u001b[0m\u001b[0m\n\u001b[1;32m    122\u001b[0m             \u001b[0msend_conf\u001b[0m\u001b[0;34m(\u001b[0m\u001b[0mnid\u001b[0m\u001b[0;34m,\u001b[0m \u001b[0mn\u001b[0m\u001b[0;34m+\u001b[0m\u001b[0;36m1\u001b[0m\u001b[0;34m,\u001b[0m \u001b[0mnmod\u001b[0m\u001b[0;34m,\u001b[0m \u001b[0mtipo\u001b[0m\u001b[0;34m)\u001b[0m\u001b[0;34m\u001b[0m\u001b[0m\n\u001b[0;32m--> 123\u001b[0;31m             \u001b[0mtime\u001b[0m\u001b[0;34m.\u001b[0m\u001b[0msleep\u001b[0m\u001b[0;34m(\u001b[0m\u001b[0mndel\u001b[0m\u001b[0;34m)\u001b[0m\u001b[0;34m\u001b[0m\u001b[0m\n\u001b[0m\u001b[1;32m    124\u001b[0m \u001b[0;34m\u001b[0m\u001b[0m\n\u001b[1;32m    125\u001b[0m \u001b[0;32mdef\u001b[0m \u001b[0msend_conf_random\u001b[0m\u001b[0;34m(\u001b[0m\u001b[0mnmod\u001b[0m \u001b[0;34m=\u001b[0m \u001b[0;36m0\u001b[0m\u001b[0;34m,\u001b[0m \u001b[0mtipo\u001b[0m \u001b[0;34m=\u001b[0m \u001b[0;34m'trg'\u001b[0m\u001b[0;34m)\u001b[0m\u001b[0;34m:\u001b[0m\u001b[0;34m\u001b[0m\u001b[0m\n",
      "\u001b[0;31mKeyboardInterrupt\u001b[0m: "
     ]
    }
   ],
   "source": [
    "ctrl.send_conf_delay(13,[8,8],nmod=nm,loop=1)"
   ]
  },
  {
   "cell_type": "code",
   "execution_count": 92,
   "metadata": {},
   "outputs": [
    {
     "name": "stdout",
     "output_type": "stream",
     "text": [
      "Sending 192.168.0.14[0, 0, 171, 171, 171, 0, 0, 171, 171, 171, 0, 0, 171, 171, 171, 0, 0, 171, 171, 171, 0]\n",
      "Sending 192.168.0.14[0, 0, 255, 255, 255, 0, 0, 255, 255, 255, 0, 0, 255, 255, 255, 0, 0, 255, 255, 255, 0]\n"
     ]
    }
   ],
   "source": [
    "ctrl.send_conf_delay(13,[8,8],nmod=nm)"
   ]
  },
  {
   "cell_type": "code",
   "execution_count": 93,
   "metadata": {},
   "outputs": [
    {
     "name": "stdout",
     "output_type": "stream",
     "text": [
      "Sending 192.168.0.14[0, 1, 1, 1, 0, 1, 1, 1, 0, 1, 1, 1, 0, 1, 1, 1, 0, 1, 1, 1, 0, 1, 1, 1, 0, 1, 1, 1, 0, 1, 1, 1, 0, 1, 1, 1, 0, 1, 1, 1, 0, 1, 1, 1, 0, 1, 1, 1, 0, 1, 1, 1, 0, 1, 1, 1, 0, 1, 1, 1, 0, 1, 1, 1, 0, 1, 1, 1, 0, 1, 1, 1, 0, 1, 1, 1, 0, 1, 1, 1, 0]\n"
     ]
    }
   ],
   "source": [
    "ctrl.send_conf(0,nmod=nm,tipo='rgb')"
   ]
  },
  {
   "cell_type": "code",
   "execution_count": null,
   "metadata": {
    "collapsed": true
   },
   "outputs": [],
   "source": []
  }
 ],
 "metadata": {
  "kernelspec": {
   "display_name": "Python 3",
   "language": "python",
   "name": "python3"
  },
  "language_info": {
   "codemirror_mode": {
    "name": "ipython",
    "version": 3
   },
   "file_extension": ".py",
   "mimetype": "text/x-python",
   "name": "python",
   "nbconvert_exporter": "python",
   "pygments_lexer": "ipython3",
   "version": "3.6.3"
  }
 },
 "nbformat": 4,
 "nbformat_minor": 2
}
