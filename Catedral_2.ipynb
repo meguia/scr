{
 "cells": [
  {
   "cell_type": "code",
   "execution_count": 1,
   "metadata": {},
   "outputs": [],
   "source": [
    "import numpy as np\n",
    "import control_readconfig as ctrl"
   ]
  },
  {
   "cell_type": "code",
   "execution_count": 2,
   "metadata": {},
   "outputs": [],
   "source": [
    "def make_config(value, nid, nseq=None, clase='same', mod = 0, tipo='trg'):\n",
    "    \"\"\"arma una configuracion para uno o varios modulos \n",
    "    y la almacena en el archivo dado por num\n",
    "    clase puede ser:\n",
    "    same: todos las unidades con el mismo valor value\n",
    "    col: lista de 4 valores por columnas\n",
    "    row: lista de 5 valores por fila\n",
    "    col12: lista de 8 valores por columnas pero para filas par/impar\n",
    "    row12: lista de 10 valores por fila pero para columnas par/impar\n",
    "    \"\"\"\n",
    "    print(tipo)\n",
    "    if tipo == 'rgb':\n",
    "        npdata = np.zeros((5,20,4), dtype = np.int32)\n",
    "    else:\n",
    "        npdata = np.zeros((5,20), dtype = np.int32)\n",
    "    if mod == 0:\n",
    "        modlist = range(5)    \n",
    "    for m in modlist:\n",
    "        if clase == 'same':\n",
    "            npdata[m] = value\n",
    "        elif clase == 'col':\n",
    "            for c in range(4):\n",
    "                npdata[m][5*c:5*(c+1)] = value[c]\n",
    "        elif clase == 'row':\n",
    "            for r in range(5):\n",
    "                npdata[m][r:20:5] = value[r]\n",
    "        elif clase == 'col12':\n",
    "            for c in range(4):\n",
    "                npdata[m][5*c:5*(c+1)] = value[2*c]\n",
    "                npdata[m][5*c+1:5*(c+1)] = value[2*c+1]     \n",
    "        elif clase == 'row12':\n",
    "            for r in range(5):\n",
    "                npdata[m][r:20:10] = value[2*r]\n",
    "                npdata[m][r+5:20:10] = value[2*r+1]\n",
    "    print(npdata)     \n"
   ]
  },
  {
   "cell_type": "code",
   "execution_count": 3,
   "metadata": {},
   "outputs": [
    {
     "name": "stdout",
     "output_type": "stream",
     "text": [
      "Sending 192.168.0.11[0, 20, 20, 20, 20, 20, 20, 20, 20, 20, 20, 20, 20, 20, 20, 20, 20, 20, 20, 20, 20]\n",
      "Sending 192.168.0.12[0, 20, 20, 20, 20, 20, 20, 20, 20, 20, 20, 20, 20, 20, 20, 20, 20, 20, 20, 20, 20]\n",
      "Sending 192.168.0.13[0, 20, 20, 20, 20, 20, 20, 20, 20, 20, 20, 20, 20, 20, 20, 20, 20, 20, 20, 20, 20]\n",
      "Sending 192.168.0.14[0, 20, 20, 20, 20, 20, 20, 20, 20, 20, 20, 20, 20, 20, 20, 20, 20, 20, 20, 20, 20]\n",
      "Sending 192.168.0.15[0, 20, 20, 20, 20, 20, 20, 20, 20, 20, 20, 20, 20, 20, 20, 20, 20, 20, 20, 20, 20]\n",
      "Sending 192.168.0.11[0, 20, 20, 20, 20, 20, 20, 20, 20, 20, 20, 20, 20, 20, 20, 20, 20, 20, 20, 20, 20]\n",
      "Sending 192.168.0.12[0, 20, 20, 20, 20, 20, 20, 20, 20, 20, 20, 20, 20, 20, 20, 20, 20, 20, 20, 20, 20]\n",
      "Sending 192.168.0.13[0, 20, 20, 20, 20, 20, 20, 20, 20, 20, 20, 20, 20, 20, 20, 20, 20, 20, 20, 20, 20]\n",
      "Sending 192.168.0.14[0, 20, 20, 20, 20, 20, 20, 20, 20, 20, 20, 20, 20, 20, 20, 20, 20, 20, 20, 20, 20]\n",
      "Sending 192.168.0.15[0, 20, 20, 20, 20, 20, 20, 20, 20, 20, 20, 20, 20, 20, 20, 20, 20, 20, 20, 20, 20]\n"
     ]
    }
   ],
   "source": [
    "ctrl.send_conf(2,nmod=0,tipo='vel')\n",
    "ctrl.send_conf(2,nmod=0,tipo='acl')"
   ]
  },
  {
   "cell_type": "code",
   "execution_count": 25,
   "metadata": {},
   "outputs": [
    {
     "name": "stdout",
     "output_type": "stream",
     "text": [
      "Sending 192.168.0.15[0, 128, 128, 128, 128, 128, 128, 128, 128, 128, 128, 128, 128, 128, 128, 128, 128, 128, 128, 128, 128]\n"
     ]
    }
   ],
   "source": [
    "ctrl.send_conf(0,nmod=[4])"
   ]
  },
  {
   "cell_type": "code",
   "execution_count": 37,
   "metadata": {},
   "outputs": [
    {
     "name": "stdout",
     "output_type": "stream",
     "text": [
      "Sending 192.168.0.11[0, 0.0, 0.0, 0.0, 0.0, 0.0, 0.0, 0.0, 0.0, 0.0, 0.0, 0.0, 0.0, 0.0, 0.0, 0.0, 0.0, 0.0, 0.0, 0.0, 0.0, 0.0, 0.0, 0.0, 0.0, 0.0, 0.0, 0.0, 0.0, 0.0, 0.0, 0.0, 0.0, 0.0, 0.0, 0.0, 0.0, 0.0, 0.0, 0.0, 0.0, 0.0, 0.0, 0.0, 0.0, 0.0, 0.0, 0.0, 0.0, 0.0, 0.0, 0.0, 0.0, 0.0, 0.0, 0.0, 0.0, 0.0, 0.0, 0.0, 0.0, 0.0, 0.0, 0.0, 0.0, 0.0, 0.0, 0.0, 0.0, 0.0, 0.0, 0.0, 0.0, 0.0, 0.0, 0.0, 0.0, 0.0, 0.0, 0.0, 0.0]\n",
      "Sending 192.168.0.12[0, 0.0, 0.0, 0.0, 0.0, 0.0, 0.0, 0.0, 0.0, 0.0, 0.0, 0.0, 0.0, 0.0, 0.0, 0.0, 0.0, 0.0, 0.0, 0.0, 0.0, 0.0, 0.0, 0.0, 0.0, 0.0, 0.0, 0.0, 0.0, 0.0, 0.0, 0.0, 0.0, 0.0, 0.0, 0.0, 0.0, 0.0, 0.0, 0.0, 0.0, 0.0, 0.0, 0.0, 0.0, 0.0, 0.0, 0.0, 0.0, 0.0, 0.0, 0.0, 0.0, 0.0, 0.0, 0.0, 0.0, 0.0, 0.0, 0.0, 0.0, 0.0, 0.0, 0.0, 0.0, 0.0, 0.0, 0.0, 0.0, 0.0, 0.0, 0.0, 0.0, 0.0, 0.0, 0.0, 0.0, 0.0, 0.0, 0.0, 0.0]\n",
      "Sending 192.168.0.13[0, 0.0, 0.0, 0.0, 0.0, 0.0, 0.0, 0.0, 0.0, 0.0, 0.0, 0.0, 0.0, 0.0, 0.0, 0.0, 0.0, 0.0, 0.0, 0.0, 0.0, 0.0, 0.0, 0.0, 0.0, 0.0, 0.0, 0.0, 0.0, 0.0, 0.0, 0.0, 0.0, 0.0, 0.0, 0.0, 0.0, 0.0, 0.0, 0.0, 0.0, 0.0, 0.0, 0.0, 0.0, 0.0, 0.0, 0.0, 0.0, 0.0, 0.0, 0.0, 0.0, 0.0, 0.0, 0.0, 0.0, 0.0, 0.0, 0.0, 0.0, 0.0, 0.0, 0.0, 0.0, 0.0, 0.0, 0.0, 0.0, 0.0, 0.0, 0.0, 0.0, 0.0, 0.0, 0.0, 0.0, 0.0, 0.0, 0.0, 0.0]\n",
      "Sending 192.168.0.14[0, 0.0, 0.0, 0.0, 0.0, 0.0, 0.0, 0.0, 0.0, 0.0, 0.0, 0.0, 0.0, 0.0, 0.0, 0.0, 0.0, 0.0, 0.0, 0.0, 0.0, 0.0, 0.0, 0.0, 0.0, 0.0, 0.0, 0.0, 0.0, 0.0, 0.0, 0.0, 0.0, 0.0, 0.0, 0.0, 0.0, 0.0, 0.0, 0.0, 0.0, 0.0, 0.0, 0.0, 0.0, 0.0, 0.0, 0.0, 0.0, 0.0, 0.0, 0.0, 0.0, 0.0, 0.0, 0.0, 0.0, 0.0, 0.0, 0.0, 0.0, 0.0, 0.0, 0.0, 0.0, 0.0, 0.0, 0.0, 0.0, 0.0, 0.0, 0.0, 0.0, 0.0, 0.0, 0.0, 0.0, 0.0, 0.0, 0.0, 0.0]\n",
      "Sending 192.168.0.15[0, 0.0, 0.0, 0.0, 0.0, 0.0, 0.0, 0.0, 0.0, 0.0, 0.0, 0.0, 0.0, 0.0, 0.0, 0.0, 0.0, 0.0, 0.0, 0.0, 0.0, 0.0, 0.0, 0.0, 0.0, 0.0, 0.0, 0.0, 0.0, 0.0, 0.0, 0.0, 0.0, 0.0, 0.0, 0.0, 0.0, 0.0, 0.0, 0.0, 0.0, 0.0, 0.0, 0.0, 0.0, 0.0, 0.0, 0.0, 0.0, 0.0, 0.0, 0.0, 0.0, 0.0, 0.0, 0.0, 0.0, 0.0, 0.0, 0.0, 0.0, 0.0, 0.0, 0.0, 0.0, 0.0, 0.0, 0.0, 0.0, 0.0, 0.0, 0.0, 0.0, 0.0, 0.0, 0.0, 0.0, 0.0, 0.0, 0.0, 0.0]\n"
     ]
    }
   ],
   "source": [
    "ctrl.send_conf(0,nmod=0,tipo='rgb')\n"
   ]
  },
  {
   "cell_type": "code",
   "execution_count": 27,
   "metadata": {},
   "outputs": [
    {
     "ename": "FileNotFoundError",
     "evalue": "[Errno 2] No such file or directory: './data/trg_01_01.json'",
     "output_type": "error",
     "traceback": [
      "\u001b[0;31m---------------------------------------------------------------------------\u001b[0m",
      "\u001b[0;31mFileNotFoundError\u001b[0m                         Traceback (most recent call last)",
      "Cell \u001b[0;32mIn[27], line 1\u001b[0m\n\u001b[0;32m----> 1\u001b[0m \u001b[43mctrl\u001b[49m\u001b[38;5;241;43m.\u001b[39;49m\u001b[43msend_conf_delay\u001b[49m\u001b[43m(\u001b[49m\u001b[38;5;241;43m1\u001b[39;49m\u001b[43m,\u001b[49m\u001b[43m[\u001b[49m\u001b[38;5;241;43m8\u001b[39;49m\u001b[43m,\u001b[49m\u001b[38;5;241;43m8\u001b[39;49m\u001b[43m]\u001b[49m\u001b[43m,\u001b[49m\u001b[43mnmod\u001b[49m\u001b[38;5;241;43m=\u001b[39;49m\u001b[43m[\u001b[49m\u001b[38;5;241;43m4\u001b[39;49m\u001b[43m]\u001b[49m\u001b[43m)\u001b[49m\n",
      "File \u001b[0;32m~/scr/control_readconfig.py:118\u001b[0m, in \u001b[0;36msend_conf_delay\u001b[0;34m(nid, delays, nmod, tipo, loop)\u001b[0m\n\u001b[1;32m    112\u001b[0m \u001b[38;5;250m\u001b[39m\u001b[38;5;124;03m\"\"\" envia la secuencia de conifguracion que esta en conflist (numeros)\u001b[39;00m\n\u001b[1;32m    113\u001b[0m \u001b[38;5;124;03men los intervalos dados por delays (valor fijo o lista)\u001b[39;00m\n\u001b[1;32m    114\u001b[0m \u001b[38;5;124;03mlos otros parametros son los mismos que send_con\u001b[39;00m\n\u001b[1;32m    115\u001b[0m \u001b[38;5;124;03msi loop = 1 lo repite forever\u001b[39;00m\n\u001b[1;32m    116\u001b[0m \u001b[38;5;124;03m\"\"\"\u001b[39;00m\n\u001b[1;32m    117\u001b[0m \u001b[38;5;28;01mfor\u001b[39;00m n,ndel \u001b[38;5;129;01min\u001b[39;00m \u001b[38;5;28menumerate\u001b[39m(delays):\n\u001b[0;32m--> 118\u001b[0m     \u001b[43msend_conf\u001b[49m\u001b[43m(\u001b[49m\u001b[43mnid\u001b[49m\u001b[43m,\u001b[49m\u001b[43m \u001b[49m\u001b[43mn\u001b[49m\u001b[38;5;241;43m+\u001b[39;49m\u001b[38;5;241;43m1\u001b[39;49m\u001b[43m,\u001b[49m\u001b[43m \u001b[49m\u001b[43mnmod\u001b[49m\u001b[43m,\u001b[49m\u001b[43m \u001b[49m\u001b[43mtipo\u001b[49m\u001b[43m)\u001b[49m\n\u001b[1;32m    119\u001b[0m     time\u001b[38;5;241m.\u001b[39msleep(ndel)\n\u001b[1;32m    120\u001b[0m \u001b[38;5;28;01mwhile\u001b[39;00m(loop):\n",
      "File \u001b[0;32m~/scr/control_readconfig.py:102\u001b[0m, in \u001b[0;36msend_conf\u001b[0;34m(nid, nseq, nmod, tipo)\u001b[0m\n\u001b[1;32m     97\u001b[0m \u001b[38;5;250m\u001b[39m\u001b[38;5;124;03m\"\"\" envia la configuracion almacendad en archivo con numero num\u001b[39;00m\n\u001b[1;32m     98\u001b[0m \u001b[38;5;124;03ma los modulso en la lista nmod si nmod es 0 lo envia a todos\u001b[39;00m\n\u001b[1;32m     99\u001b[0m \u001b[38;5;124;03mtipo es trg pos vel acl o rgb\u001b[39;00m\n\u001b[1;32m    100\u001b[0m \u001b[38;5;124;03m\"\"\"\u001b[39;00m\n\u001b[1;32m    101\u001b[0m \u001b[38;5;28;01mif\u001b[39;00m tipo \u001b[38;5;129;01min\u001b[39;00m osc_tipo\u001b[38;5;241m.\u001b[39mkeys():\n\u001b[0;32m--> 102\u001b[0m     config \u001b[38;5;241m=\u001b[39m \u001b[43mload_conf\u001b[49m\u001b[43m(\u001b[49m\u001b[43mnid\u001b[49m\u001b[43m,\u001b[49m\u001b[43mnseq\u001b[49m\u001b[43m,\u001b[49m\u001b[43mtipo\u001b[49m\u001b[43m)\u001b[49m\n\u001b[1;32m    103\u001b[0m     send_config(config,nmod,tipo)    \n\u001b[1;32m    104\u001b[0m \u001b[38;5;28;01melse\u001b[39;00m:\n",
      "File \u001b[0;32m~/scr/control_readconfig.py:56\u001b[0m, in \u001b[0;36mload_conf\u001b[0;34m(nid, nseq, tipo)\u001b[0m\n\u001b[1;32m     54\u001b[0m \u001b[38;5;28;01melse\u001b[39;00m:\n\u001b[1;32m     55\u001b[0m     fname \u001b[38;5;241m=\u001b[39m path \u001b[38;5;241m+\u001b[39m file_tipo[tipo] \u001b[38;5;241m+\u001b[39m \u001b[38;5;124m'\u001b[39m\u001b[38;5;124m_\u001b[39m\u001b[38;5;124m'\u001b[39m \u001b[38;5;241m+\u001b[39m \u001b[38;5;28mstr\u001b[39m(nid)\u001b[38;5;241m.\u001b[39mzfill(\u001b[38;5;241m4\u001b[39m) \u001b[38;5;241m+\u001b[39m \u001b[38;5;124m'\u001b[39m\u001b[38;5;124m.json\u001b[39m\u001b[38;5;124m'\u001b[39m\n\u001b[0;32m---> 56\u001b[0m \u001b[38;5;28;01mwith\u001b[39;00m \u001b[38;5;28;43mopen\u001b[39;49m\u001b[43m(\u001b[49m\u001b[43mfname\u001b[49m\u001b[43m)\u001b[49m \u001b[38;5;28;01mas\u001b[39;00m json_file:  \n\u001b[1;32m     57\u001b[0m     npdata \u001b[38;5;241m=\u001b[39m json\u001b[38;5;241m.\u001b[39mload(json_file, object_hook\u001b[38;5;241m=\u001b[39mjson_numpy_obj_hook)\n\u001b[1;32m     58\u001b[0m     \u001b[38;5;66;03m#perform someformat chequeo \u001b[39;00m\n",
      "\u001b[0;31mFileNotFoundError\u001b[0m: [Errno 2] No such file or directory: './data/trg_01_01.json'"
     ]
    }
   ],
   "source": [
    "ctrl.send_conf_delay(13,[8,8],nmod=[4])"
   ]
  },
  {
   "cell_type": "markdown",
   "metadata": {},
   "source": [
    "# Creamos Configuraciones Catedral"
   ]
  },
  {
   "cell_type": "markdown",
   "metadata": {},
   "source": [
    "## Configuraciones Fijas"
   ]
  },
  {
   "cell_type": "code",
   "execution_count": null,
   "metadata": {},
   "outputs": [],
   "source": [
    "conf_led = 75*np.ones((5,20,4))\n",
    "ctrl.save_conf(conf_led,1,tipo='rgb');"
   ]
  },
  {
   "cell_type": "code",
   "execution_count": null,
   "metadata": {},
   "outputs": [],
   "source": [
    "conf2 = 20*np.ones((5,20))\n",
    "conf1 = 255*np.ones((5,20))\n",
    "ctrl.save_conf(conf2,2,tipo='vel');\n",
    "ctrl.save_conf(conf2,2,tipo='acl');\n",
    "ctrl.save_conf(conf1,1,tipo='vel');\n",
    "ctrl.save_conf(conf1,1,tipo='acl');"
   ]
  },
  {
   "cell_type": "code",
   "execution_count": null,
   "metadata": {},
   "outputs": [],
   "source": [
    "conf0 = 128*np.ones((5,20))\n",
    "conf1 = 42*np.ones((5,20))\n",
    "conf2 = 214*np.ones((5,20))\n",
    "conf4 = 171*np.ones((5,20))\n",
    "conf9 = 255*np.ones((5,20))\n",
    "ctrl.save_conf(conf0,0,tipo='pos');\n",
    "ctrl.save_conf(conf1,1,tipo='pos');\n",
    "ctrl.save_conf(conf2,2,tipo='pos');\n",
    "ctrl.save_conf(conf4,4,tipo='pos');\n",
    "ctrl.save_conf(conf9,9,tipo='pos');"
   ]
  },
  {
   "cell_type": "code",
   "execution_count": null,
   "metadata": {},
   "outputs": [],
   "source": [
    "conf50=np.array([[203, 246, 228, 202, 77, 207, 125, 248, 237, 243, 108, 13, 243, 49, 233, 35, 242, 133, 70, 74],\n",
    "                 [206, 63, 8, 74, 104, 2, 7, 135, 126, 49, 117, 151, 226, 59, 65, 247, 197, 169, 200, 162],\n",
    "                 [185, 36, 68, 111, 242, 106, 150, 230, 148, 66, 138, 183, 213, 72, 182, 69, 229, 218, 151, 147],\n",
    "                 [128, 172, 72, 105, 61, 104, 148, 198, 205, 216, 203, 181, 230, 3, 150, 200, 198, 230, 207, 125],\n",
    "                 [126, 46, 24, 242, 177, 12, 88, 131, 11, 83, 163, 156, 204, 10, 146, 67, 218, 180, 204, 222]\n",
    "                ])\n",
    "ctrl.save_conf(conf50,50,tipo='pos');"
   ]
  },
  {
   "cell_type": "code",
   "execution_count": null,
   "metadata": {},
   "outputs": [],
   "source": [
    "conf51 = np.array([[62, 235, 243, 163, 127, 24, 208, 64, 139, 251, 56, 239, 254, 172, 228, 203, 63, 117, 128, 91],\n",
    "                  [224, 127, 101, 179, 175, 79, 86, 55, 182, 48, 22, 116, 160, 207, 143, 99, 14, 163, 160, 131],\n",
    "                  [199, 61, 20, 201, 102, 102, 223, 235, 179, 104, 241, 239, 75, 1, 87, 2, 231, 111, 239, 214],\n",
    "                  [221, 10, 140, 193, 115, 190, 111, 64, 178, 165, 220, 217, 98, 66, 139, 240, 111, 193, 180, 86],\n",
    "                  [221, 191, 252, 17, 144, 17, 16, 250, 161, 154, 219, 206, 155, 158, 168, 21, 107, 233, 65, 28] \n",
    "                  ])\n",
    "ctrl.save_conf(conf51,51,tipo='pos');"
   ]
  },
  {
   "cell_type": "markdown",
   "metadata": {},
   "source": [
    "# Aca empieza a mandar"
   ]
  },
  {
   "cell_type": "code",
   "execution_count": null,
   "metadata": {},
   "outputs": [],
   "source": [
    "#parametros\n",
    "#test\n",
    "#nm = [3]\n",
    "# all\n",
    "nm = 0"
   ]
  },
  {
   "cell_type": "code",
   "execution_count": null,
   "metadata": {},
   "outputs": [],
   "source": [
    "# MOV 1\n",
    "#bajo la velocidad\n",
    "ctrl.send_conf(2,nmod=nm,tipo='vel')\n",
    "ctrl.send_conf(2,nmod=nm,tipo='acl')"
   ]
  },
  {
   "cell_type": "code",
   "execution_count": null,
   "metadata": {},
   "outputs": [],
   "source": [
    "ctrl.send_conf(51)"
   ]
  },
  {
   "cell_type": "code",
   "execution_count": null,
   "metadata": {},
   "outputs": [],
   "source": [
    "ctrl.send_conf(4)"
   ]
  },
  {
   "cell_type": "code",
   "execution_count": null,
   "metadata": {},
   "outputs": [],
   "source": [
    "ctrl.send_conf(9)"
   ]
  },
  {
   "cell_type": "code",
   "execution_count": null,
   "metadata": {},
   "outputs": [],
   "source": [
    "ctrl.send_conf_list([9,9,2,4,4],[0,1,2,3,4])"
   ]
  },
  {
   "cell_type": "code",
   "execution_count": null,
   "metadata": {},
   "outputs": [],
   "source": [
    "ctrl.send_conf_list([9,9,2,4,4],[0,1,2,3,4])"
   ]
  },
  {
   "cell_type": "code",
   "execution_count": null,
   "metadata": {},
   "outputs": [],
   "source": [
    "ctrl.send_conf_list([4,4,9,9],[0,1,3,4])"
   ]
  },
  {
   "cell_type": "code",
   "execution_count": null,
   "metadata": {},
   "outputs": [],
   "source": [
    "ctrl.send_conf(50)"
   ]
  },
  {
   "cell_type": "code",
   "execution_count": null,
   "metadata": {},
   "outputs": [],
   "source": [
    "ctrl.send_conf(1,nmod=nm,tipo='vel')\n",
    "ctrl.send_conf(1,nmod=nm,tipo='acl')"
   ]
  },
  {
   "cell_type": "code",
   "execution_count": null,
   "metadata": {},
   "outputs": [],
   "source": [
    "# MOV2\n",
    "#escalonado"
   ]
  },
  {
   "cell_type": "code",
   "execution_count": null,
   "metadata": {},
   "outputs": [],
   "source": [
    "# MOV 3\n",
    "# GLISSANDO"
   ]
  },
  {
   "cell_type": "code",
   "execution_count": null,
   "metadata": {},
   "outputs": [],
   "source": [
    "# MOV 4\n",
    "############\n",
    "# LABERINTO\n",
    "# para atras todos\n",
    "ctrl.send_conf(2,tipo='trg')"
   ]
  },
  {
   "cell_type": "code",
   "execution_count": null,
   "metadata": {},
   "outputs": [],
   "source": [
    "#posicion random de a pasos por columna elegida al azar\n",
    "ctrl.send_rand_mask(2,5,range(5))"
   ]
  },
  {
   "cell_type": "code",
   "execution_count": null,
   "metadata": {},
   "outputs": [],
   "source": [
    "#mueve de a 1 columna por fila al azar\n",
    "ctrl.send_rand_mask(0,5,nmask = range(5))\n",
    "#ctrl.send_rand_mask(1,0,nmod=nm,nmask = [0], tipo='rgb')"
   ]
  },
  {
   "cell_type": "code",
   "execution_count": null,
   "metadata": {},
   "outputs": [],
   "source": [
    "ctrl.send_conf(50)"
   ]
  },
  {
   "cell_type": "code",
   "execution_count": null,
   "metadata": {},
   "outputs": [],
   "source": [
    "ctrl.send_conf_list([1,1,0,2,2],[0,1,4,3,2])"
   ]
  },
  {
   "cell_type": "code",
   "execution_count": null,
   "metadata": {},
   "outputs": [],
   "source": [
    "# MOV 5\n",
    "#######\n",
    "# DUO DE SAXOS\n",
    "ctrl.send_conf_list([5,6],[1,4])"
   ]
  },
  {
   "cell_type": "code",
   "execution_count": null,
   "metadata": {},
   "outputs": [],
   "source": [
    "ctrl.send_conf_list([6,5],[1,4])"
   ]
  },
  {
   "cell_type": "code",
   "execution_count": null,
   "metadata": {},
   "outputs": [],
   "source": [
    "ctrl.send_conf_list([8,7],[1,4])"
   ]
  },
  {
   "cell_type": "code",
   "execution_count": null,
   "metadata": {},
   "outputs": [],
   "source": [
    "ctrl.send_conf_list([7,8,7,8,7],[0,1,2,3,4])"
   ]
  },
  {
   "cell_type": "code",
   "execution_count": null,
   "metadata": {},
   "outputs": [],
   "source": [
    "ctrl.send_conf(2)"
   ]
  },
  {
   "cell_type": "code",
   "execution_count": null,
   "metadata": {},
   "outputs": [],
   "source": [
    "ctrl.send_conf_list([7,8,7,8,7],[0,1,2,4,4])"
   ]
  },
  {
   "cell_type": "code",
   "execution_count": null,
   "metadata": {},
   "outputs": [],
   "source": [
    "#atencion porque queda en loop\n",
    "ctrl.send_conf_delay(12,[2,2],nmod=nm,loop=1)"
   ]
  },
  {
   "cell_type": "code",
   "execution_count": null,
   "metadata": {},
   "outputs": [],
   "source": [
    "ctrl.send_conf_delay(13,[8,8],loop=1)"
   ]
  },
  {
   "cell_type": "code",
   "execution_count": null,
   "metadata": {},
   "outputs": [],
   "source": [
    "ctrl.send_conf_delay(14,[8,8],nmod=nm,loop=1)"
   ]
  },
  {
   "cell_type": "code",
   "execution_count": null,
   "metadata": {},
   "outputs": [],
   "source": [
    "ctrl.send_conf_delay(13,[8,8],nmod=nm)"
   ]
  },
  {
   "cell_type": "code",
   "execution_count": null,
   "metadata": {},
   "outputs": [],
   "source": [
    "ctrl.send_conf(0)"
   ]
  },
  {
   "cell_type": "code",
   "execution_count": null,
   "metadata": {},
   "outputs": [],
   "source": [
    "# MOV 7\n",
    "####\n",
    "#CASA POLITICA\n",
    "# Se apagan todos. Movimientos simetricos de los modulos 3 y 4 a 45\n",
    "ctrl.send_conf_list([1,2,0,2,1],[0,1,4,2,3])"
   ]
  },
  {
   "cell_type": "code",
   "execution_count": null,
   "metadata": {},
   "outputs": [],
   "source": []
  }
 ],
 "metadata": {
  "kernelspec": {
   "display_name": "Python 3 (ipykernel)",
   "language": "python",
   "name": "python3"
  },
  "language_info": {
   "codemirror_mode": {
    "name": "ipython",
    "version": 3
   },
   "file_extension": ".py",
   "mimetype": "text/x-python",
   "name": "python",
   "nbconvert_exporter": "python",
   "pygments_lexer": "ipython3",
   "version": "3.10.11"
  }
 },
 "nbformat": 4,
 "nbformat_minor": 2
}
